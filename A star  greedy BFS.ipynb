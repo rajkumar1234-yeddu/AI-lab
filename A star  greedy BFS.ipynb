{
 "cells": [
  {
   "cell_type": "code",
   "execution_count": 2,
   "id": "17b4fded",
   "metadata": {},
   "outputs": [
    {
     "name": "stdout",
     "output_type": "stream",
     "text": [
      "{'A': {'B': 1, 'C': 2}, 'B': {'D': 7, 'E': 9, 'F': 5}, 'C': {'G': 4, 'H': 3, 'I': 6, 'J': 8}, 'D': {'B': 7}, 'E': {'B': 9}, 'F': {'B': 5}, 'G': {'C': 4}, 'H': {'I': 1, 'C': 3}, 'I': {'H': 1, 'C': 6}, 'J': {'C': 8}} {'A': 8, 'B': 10, 'C': 4, 'D': 15, 'E': 14, 'F': 12, 'G': 7, 'H': 2, 'I': 0, 'J': 4}\n",
      "{'B': 10, 'C': 4} ['A']\n",
      "{'B': 10, 'G': 7, 'H': 2, 'I': 0, 'J': 4} ['A', 'C']\n",
      "{'B': 10, 'G': 7, 'H': 2, 'J': 4, 'C': 4} ['A', 'C', 'I']\n"
     ]
    },
    {
     "data": {
      "text/plain": [
       "8"
      ]
     },
     "execution_count": 2,
     "metadata": {},
     "output_type": "execute_result"
    }
   ],
   "source": [
    "graph = {\n",
    "    'A':{'B':1, 'C':2},\n",
    "    'B':{'D':7, 'E':9, 'F':5},\n",
    "    'C':{'G':4, 'H':3, 'I':6, 'J':8},\n",
    "    'D':{'B':7},\n",
    "    'E':{'B':9},\n",
    "    'F':{'B':5},\n",
    "    'G':{'C':4},\n",
    "    'H':{'I':1, 'C':3},\n",
    "    'I':{'H':1, 'C':6},\n",
    "    'J':{'C':8}\n",
    "}\n",
    "\n",
    "h = {'A':8, 'B':10, 'C':4, 'D':15, 'E':14, 'F':12, 'G':7, 'H':2, 'I':0, 'J':4}\n",
    "\n",
    "print(graph, h)\n",
    "\n",
    "def select_key(open):\n",
    "    least = 10000\n",
    "    node = ''\n",
    "    for i in open.keys():\n",
    "        if least>open[i]:\n",
    "            node = i\n",
    "            least=open[i]\n",
    "    return node\n",
    "\n",
    "def Greedy_BFS(g, h, start, goal):\n",
    "    open = {start:h[start]}\n",
    "    closed = []\n",
    "    cost = 0\n",
    "    while goal not in closed:\n",
    "        node = select_key(open)\n",
    "        cost = open.pop(select_key(open))\n",
    "        closed.append(node)\n",
    "        new = g[node].copy()\n",
    "        for i in new:\n",
    "            new[i]=h[i]\n",
    "        open.update(new)\n",
    "        print(open, closed)\n",
    "    cost = 0\n",
    "    for i in range(len(closed)-1):\n",
    "        cost+=g[closed[i]][closed[i+1]]\n",
    "    return cost\n",
    "\n",
    "Greedy_BFS(graph, h, 'A', 'I')"
   ]
  },
  {
   "cell_type": "code",
   "execution_count": 4,
   "id": "63fae696",
   "metadata": {},
   "outputs": [
    {
     "name": "stdout",
     "output_type": "stream",
     "text": [
      "{'A': {'B': 1, 'C': 2}, 'B': {'D': 7, 'E': 9, 'F': 5}, 'C': {'G': 4, 'H': 3, 'I': 6, 'J': 8}, 'D': {'B': 7}, 'E': {'B': 9}, 'F': {'B': 5}, 'G': {'C': 4}, 'H': {'I': 1, 'C': 3}, 'I': {'H': 1, 'C': 6}, 'J': {'C': 8}} {'A': 8, 'B': 10, 'C': 4, 'D': 15, 'E': 14, 'F': 12, 'G': 7, 'H': 2, 'I': 0, 'J': 4}\n",
      "{'B': 11, 'C': 6} ['A']\n",
      "{'B': 11, 'G': 13, 'H': 7, 'I': 8, 'J': 14} ['A', 'C']\n",
      "{'B': 11, 'G': 13, 'I': 6, 'J': 14, 'C': 12} ['A', 'C', 'H']\n",
      "{'B': 11, 'G': 13, 'J': 14, 'C': 16, 'H': 9} ['A', 'C', 'H', 'I']\n"
     ]
    },
    {
     "data": {
      "text/plain": [
       "6"
      ]
     },
     "execution_count": 4,
     "metadata": {},
     "output_type": "execute_result"
    }
   ],
   "source": [
    "graph = {\n",
    "    'A':{'B':1, 'C':2},\n",
    "    'B':{'D':7, 'E':9, 'F':5},\n",
    "    'C':{'G':4, 'H':3, 'I':6, 'J':8},\n",
    "    'D':{'B':7},\n",
    "    'E':{'B':9},\n",
    "    'F':{'B':5},\n",
    "    'G':{'C':4},\n",
    "    'H':{'I':1, 'C':3},\n",
    "    'I':{'H':1, 'C':6},\n",
    "    'J':{'C':8}\n",
    "}\n",
    "\n",
    "h = {'A':8, 'B':10, 'C':4, 'D':15, 'E':14, 'F':12, 'G':7, 'H':2, 'I':0, 'J':4}\n",
    "\n",
    "print(graph, h)\n",
    "def select_key(open):\n",
    "    least = 10000\n",
    "    node = ''\n",
    "    for i in open.keys():\n",
    "        if least>open[i]:\n",
    "            node = i\n",
    "            least=open[i]\n",
    "    return node\n",
    "\n",
    "def A_star(g, h, start, goal):\n",
    "    open = {start:h[start]}\n",
    "    closed = []\n",
    "    least_cost = 10000\n",
    "    while(goal not in closed):\n",
    "        node = select_key(open)\n",
    "        cost = open.pop(select_key(open))\n",
    "        closed.append(node)\n",
    "        to_be_updated = g[node].copy()\n",
    "        for i in to_be_updated.keys():\n",
    "            to_be_updated[i]=(cost-h[node]) + to_be_updated[i] + h[i]\n",
    "        open.update(to_be_updated)\n",
    "        if goal in open.keys():\n",
    "            if open[goal]<least_cost:\n",
    "                least_cost=open[goal]\n",
    "        print(open, closed)\n",
    "    return least_cost\n",
    "\n",
    "\n",
    "A_star(graph, h, 'A', 'I')"
   ]
  },
  {
   "cell_type": "code",
   "execution_count": null,
   "id": "42835dd3",
   "metadata": {},
   "outputs": [],
   "source": []
  }
 ],
 "metadata": {
  "kernelspec": {
   "display_name": "Python 3 (ipykernel)",
   "language": "python",
   "name": "python3"
  },
  "language_info": {
   "codemirror_mode": {
    "name": "ipython",
    "version": 3
   },
   "file_extension": ".py",
   "mimetype": "text/x-python",
   "name": "python",
   "nbconvert_exporter": "python",
   "pygments_lexer": "ipython3",
   "version": "3.9.13"
  }
 },
 "nbformat": 4,
 "nbformat_minor": 5
}
