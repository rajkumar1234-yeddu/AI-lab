{
 "cells": [
  {
   "cell_type": "code",
   "execution_count": 4,
   "id": "4f4a0fc0",
   "metadata": {},
   "outputs": [
    {
     "name": "stdout",
     "output_type": "stream",
     "text": [
      "7316 + 823 = 8139 (mapping : {'e': 3, 'o': 8, 'y': 9, 'r': 2, 'd': 6, 's': 7, 'n': 1, 'm': 0})\n",
      "8324 + 913 = 9237 (mapping : {'e': 3, 'o': 9, 'y': 7, 'r': 1, 'd': 4, 's': 8, 'n': 2, 'm': 0})\n",
      "6419 + 724 = 7143 (mapping : {'e': 4, 'o': 7, 'y': 3, 'r': 2, 'd': 9, 's': 6, 'n': 1, 'm': 0})\n",
      "6415 + 734 = 7149 (mapping : {'e': 4, 'o': 7, 'y': 9, 'r': 3, 'd': 5, 's': 6, 'n': 1, 'm': 0})\n",
      "7429 + 814 = 8243 (mapping : {'e': 4, 'o': 8, 'y': 3, 'r': 1, 'd': 9, 's': 7, 'n': 2, 'm': 0})\n",
      "8432 + 914 = 9346 (mapping : {'e': 4, 'o': 9, 'y': 6, 'r': 1, 'd': 2, 's': 8, 'n': 3, 'm': 0})\n",
      "9567 + 1085 = 10652 (mapping : {'e': 5, 'o': 0, 'y': 2, 'r': 8, 'd': 7, 's': 9, 'n': 6, 'm': 1})\n",
      "6524 + 735 = 7259 (mapping : {'e': 5, 'o': 7, 'y': 9, 'r': 3, 'd': 4, 's': 6, 'n': 2, 'm': 0})\n",
      "7539 + 815 = 8354 (mapping : {'e': 5, 'o': 8, 'y': 4, 'r': 1, 'd': 9, 's': 7, 'n': 3, 'm': 0})\n",
      "7531 + 825 = 8356 (mapping : {'e': 5, 'o': 8, 'y': 6, 'r': 2, 'd': 1, 's': 7, 'n': 3, 'm': 0})\n",
      "7534 + 825 = 8359 (mapping : {'e': 5, 'o': 8, 'y': 9, 'r': 2, 'd': 4, 's': 7, 'n': 3, 'm': 0})\n",
      "8542 + 915 = 9457 (mapping : {'e': 5, 'o': 9, 'y': 7, 'r': 1, 'd': 2, 's': 8, 'n': 4, 'm': 0})\n",
      "7649 + 816 = 8465 (mapping : {'e': 6, 'o': 8, 'y': 5, 'r': 1, 'd': 9, 's': 7, 'n': 4, 'm': 0})\n",
      "7643 + 826 = 8469 (mapping : {'e': 6, 'o': 8, 'y': 9, 'r': 2, 'd': 3, 's': 7, 'n': 4, 'm': 0})\n",
      "3719 + 457 = 4176 (mapping : {'e': 7, 'o': 4, 'y': 6, 'r': 5, 'd': 9, 's': 3, 'n': 1, 'm': 0})\n",
      "3712 + 467 = 4179 (mapping : {'e': 7, 'o': 4, 'y': 9, 'r': 6, 'd': 2, 's': 3, 'n': 1, 'm': 0})\n",
      "5731 + 647 = 6378 (mapping : {'e': 7, 'o': 6, 'y': 8, 'r': 4, 'd': 1, 's': 5, 'n': 3, 'm': 0})\n",
      "5732 + 647 = 6379 (mapping : {'e': 7, 'o': 6, 'y': 9, 'r': 4, 'd': 2, 's': 5, 'n': 3, 'm': 0})\n",
      "2817 + 368 = 3185 (mapping : {'e': 8, 'o': 3, 'y': 5, 'r': 6, 'd': 7, 's': 2, 'n': 1, 'm': 0})\n",
      "2819 + 368 = 3187 (mapping : {'e': 8, 'o': 3, 'y': 7, 'r': 6, 'd': 9, 's': 2, 'n': 1, 'm': 0})\n",
      "3829 + 458 = 4287 (mapping : {'e': 8, 'o': 4, 'y': 7, 'r': 5, 'd': 9, 's': 3, 'n': 2, 'm': 0})\n",
      "3821 + 468 = 4289 (mapping : {'e': 8, 'o': 4, 'y': 9, 'r': 6, 'd': 1, 's': 3, 'n': 2, 'm': 0})\n",
      "5849 + 638 = 6487 (mapping : {'e': 8, 'o': 6, 'y': 7, 'r': 3, 'd': 9, 's': 5, 'n': 4, 'm': 0})\n",
      "6853 + 728 = 7581 (mapping : {'e': 8, 'o': 7, 'y': 1, 'r': 2, 'd': 3, 's': 6, 'n': 5, 'm': 0})\n",
      "6851 + 738 = 7589 (mapping : {'e': 8, 'o': 7, 'y': 9, 'r': 3, 'd': 1, 's': 6, 'n': 5, 'm': 0})\n"
     ]
    }
   ],
   "source": [
    "import itertools\n",
    "def get_value(word, substitution):\n",
    "    s = 0\n",
    "    factor = 1\n",
    "    for letter in reversed(word):\n",
    "        s += factor * substitution[letter]\n",
    "        factor *= 10\n",
    "    return s\n",
    "\n",
    "def solve2(equation):\n",
    "    left, right = equation.lower().replace(' ', '').split('=')\n",
    "    left = left.split('+')\n",
    "    letters = set(right)\n",
    "    for word in left:\n",
    "        for letter in word:\n",
    "            letters.add(letter)\n",
    "    letters = list(letters)\n",
    "    digits = range(10)\n",
    "    for perm in itertools.permutations(digits, len(letters)):\n",
    "        sol = dict(zip(letters, perm))\n",
    "        if sum(get_value(word, sol) for word in left) == get_value(right, sol):\n",
    "            print(' + '.join(str(get_value(word, sol)) for word in left) + \" = {} (mapping : {})\".format(get_value(right, sol), sol))\n",
    "\n",
    "solve2('SEND + MORE = MONEY')"
   ]
  },
  {
   "cell_type": "code",
   "execution_count": null,
   "id": "078c7bd3",
   "metadata": {},
   "outputs": [],
   "source": []
  }
 ],
 "metadata": {
  "kernelspec": {
   "display_name": "Python 3 (ipykernel)",
   "language": "python",
   "name": "python3"
  },
  "language_info": {
   "codemirror_mode": {
    "name": "ipython",
    "version": 3
   },
   "file_extension": ".py",
   "mimetype": "text/x-python",
   "name": "python",
   "nbconvert_exporter": "python",
   "pygments_lexer": "ipython3",
   "version": "3.9.13"
  }
 },
 "nbformat": 4,
 "nbformat_minor": 5
}
