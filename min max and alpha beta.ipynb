{
 "cells": [
  {
   "cell_type": "code",
   "execution_count": 5,
   "id": "ff51c00a",
   "metadata": {},
   "outputs": [
    {
     "name": "stdout",
     "output_type": "stream",
     "text": [
      "Enter leaf nodes : 3 5 2 9 12 5 23 23\n",
      "Enter 1 if MAX, else enter 0 : 1\n",
      "Max level :  [3, 5, 2, 9, 12, 5, 23, 23]\n",
      "Min level :  [5, 9, 12, 23]\n",
      "Max level :  [5, 12]\n",
      "Min level :  [12]\n",
      "Root node of final MIN_MAX tree is :  12\n"
     ]
    }
   ],
   "source": [
    "def MIN_MAX(leafs, mode):\n",
    "    flag = mode #max 1\n",
    "    if flag == 1:\n",
    "        print(\"Max level : \", leafs)\n",
    "    else:\n",
    "        print(\"Min level : \", leafs)\n",
    "    while(len(leafs)>1):\n",
    "        new = []\n",
    "        while len(leafs)>1:\n",
    "            x = leafs.pop(0)\n",
    "            y = leafs.pop(0)\n",
    "            if flag==1:\n",
    "                new.append(max(x, y))\n",
    "            else:\n",
    "                new.append(min(x, y))\n",
    "        if len(leafs)==1:\n",
    "            new.append(leafs.pop())\n",
    "        leafs = new\n",
    "        if flag == 1:\n",
    "            flag=0\n",
    "            print(\"Min level : \", leafs)\n",
    "        else:\n",
    "            flag=1\n",
    "            print(\"Max level : \", leafs)\n",
    "\n",
    "    return leafs[0]\n",
    "\n",
    "#[3,5, 2,9, 12,5, 23,23]\n",
    "#[10, 100, 5, -10, 7, 5, -100, -7, -5]\n",
    "\n",
    "leaf_nodes = list(map(int, input(\"Enter leaf nodes : \").split()))\n",
    "mode = int(input(\"Enter 1 if MAX, else enter 0 : \"))\n",
    "\n",
    "res = MIN_MAX(leaf_nodes, mode)\n",
    "print(\"Root node of final MIN_MAX tree is : \", res)"
   ]
  },
  {
   "cell_type": "code",
   "execution_count": 6,
   "id": "3866ec83",
   "metadata": {},
   "outputs": [
    {
     "name": "stdout",
     "output_type": "stream",
     "text": [
      "The optimal value is : 5\n"
     ]
    }
   ],
   "source": [
    "MAX, MIN = 1000, -1000\n",
    "\n",
    "def minimax(depth, nodeIndex, maximizingPlayer,\n",
    "            values, alpha, beta):\n",
    "\n",
    "    if depth == 3:\n",
    "        return values[nodeIndex]\n",
    "    if maximizingPlayer:\n",
    "        best = MIN\n",
    "        for i in range(0, 2):\n",
    "            val = minimax(depth + 1, nodeIndex * 2 + i,\n",
    "                        False, values, alpha, beta)\n",
    "            best = max(best, val)\n",
    "            alpha = max(alpha, best)\n",
    "            if beta <= alpha:\n",
    "                break\n",
    "        return best\n",
    "\n",
    "    else:\n",
    "        best = MAX\n",
    "        for i in range(0, 2):\n",
    "            val = minimax(depth + 1, nodeIndex * 2 + i,True, values, alpha, beta)\n",
    "            best = min(best, val)\n",
    "            beta = min(beta, best)\n",
    "            if beta <= alpha:\n",
    "                break\n",
    "        return best\n",
    "\n",
    "\n",
    "if __name__ == \"__main__\":\n",
    "    values = [3, 5, 6, 9, 1, 2, 0, -1]\n",
    "    print(\"The optimal value is :\", minimax(0, 0, True, values, MIN, MAX))\n",
    "\n",
    "# [2, 3, 5, 9, 0, 1 ,7, 5] , ans:3"
   ]
  },
  {
   "cell_type": "code",
   "execution_count": 7,
   "id": "03a927ec",
   "metadata": {},
   "outputs": [
    {
     "name": "stdout",
     "output_type": "stream",
     "text": [
      "Enter Childern of :  A\n",
      "B C\n",
      "If you want to continue enter 1 else 0 : 1\n",
      "Enter Childern of :  B\n",
      "D E\n",
      "If you want to continue enter 1 else 0 : 1\n",
      "Enter Childern of :  C\n",
      "F G\n",
      "If you want to continue enter 1 else 0 : 1\n",
      "Enter Childern of :  D\n",
      "2 3\n",
      "If you want to continue enter 1 else 0 : 1\n",
      "Enter Childern of :  E\n",
      "5 9\n",
      "If you want to continue enter 1 else 0 : 1\n",
      "Enter Childern of :  F\n",
      "0 1\n",
      "If you want to continue enter 1 else 0 : 1\n",
      "Enter Childern of :  G\n",
      "7 5\n",
      "If you want to continue enter 1 else 0 : 0\n"
     ]
    },
    {
     "data": {
      "text/plain": [
       "\"\\n{'A': ['B', 'C'],\\n 'B': ['D', 'E'],\\n 'C': ['F', 'G'],\\n 'D': [2, 3],\\n 'E': [5, 9],\\n 'F': [0, 1],\\n 'G': [7, 5]}\\n\""
      ]
     },
     "execution_count": 7,
     "metadata": {},
     "output_type": "execute_result"
    }
   ],
   "source": [
    "def Graph_creation(n):\n",
    "    flag=1\n",
    "    graph = {}\n",
    "    l = [n]\n",
    "    while(flag):\n",
    "        x = l.pop(0)\n",
    "        graph[x] = []\n",
    "        print(\"Enter Childern of : \", x)\n",
    "        child = input().split()\n",
    "        l+=child\n",
    "        for i in child:\n",
    "            if i.isnumeric():\n",
    "                graph[x].append(int(i))\n",
    "            else:\n",
    "                graph[x].append(i)\n",
    "        flag = int(input(\"If you want to continue enter 1 else 0 : \"))\n",
    "    return graph\n",
    "\n",
    "graph = Graph_creation('A')\n",
    "graph\n",
    "'''\n",
    "{'A': ['B', 'C'],\n",
    " 'B': ['D', 'E'],\n",
    " 'C': ['F', 'G'],\n",
    " 'D': [2, 3],\n",
    " 'E': [5, 9],\n",
    " 'F': [0, 1],\n",
    " 'G': [7, 5]}\n",
    "'''"
   ]
  },
  {
   "cell_type": "code",
   "execution_count": null,
   "id": "cfade78c",
   "metadata": {},
   "outputs": [],
   "source": []
  }
 ],
 "metadata": {
  "kernelspec": {
   "display_name": "Python 3 (ipykernel)",
   "language": "python",
   "name": "python3"
  },
  "language_info": {
   "codemirror_mode": {
    "name": "ipython",
    "version": 3
   },
   "file_extension": ".py",
   "mimetype": "text/x-python",
   "name": "python",
   "nbconvert_exporter": "python",
   "pygments_lexer": "ipython3",
   "version": "3.9.13"
  }
 },
 "nbformat": 4,
 "nbformat_minor": 5
}
