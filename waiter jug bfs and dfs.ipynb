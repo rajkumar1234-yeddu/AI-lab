{
 "cells": [
  {
   "cell_type": "code",
   "execution_count": 1,
   "id": "02e7f229",
   "metadata": {},
   "outputs": [
    {
     "name": "stdout",
     "output_type": "stream",
     "text": [
      "Enter jug capacities : 5 3\n",
      "Enter final result : 4\n",
      "[[5, 0], [0, 3]]\n",
      "[[5, 3], [2, 3], [5, 3], [3, 0]]\n",
      "[[2, 0], [5, 0], [3, 3], [0, 3]]\n",
      "[[0, 2], [0, 0], [5, 1], [0, 0], [3, 0]]\n",
      "[[5, 2], [5, 0], [0, 1], [5, 0], [3, 3]]\n",
      "[[4, 3], [0, 0], [1, 0], [0, 0], [3, 0], [5, 1]]\n",
      "[[4, 0], [5, 0], [1, 3], [5, 0], [0, 1], [3, 3]]\n"
     ]
    },
    {
     "data": {
      "text/plain": [
       "[(0, 0), (5, 0), (2, 3), (2, 0), (0, 2), (5, 2), (4, 3), (4, 0)]"
      ]
     },
     "execution_count": 1,
     "metadata": {},
     "output_type": "execute_result"
    }
   ],
   "source": [
    "m, n = [int(x) for x in input(\"Enter jug capacities : \").split()]\n",
    "res = int(input(\"Enter final result : \"))\n",
    "root = [0, 0]\n",
    "dest = [res, 0]\n",
    "\n",
    "def water_jug_bfs(r, d, m, n): #5, 3\n",
    "    visited = []\n",
    "    open = [r]\n",
    "    graph = {}\n",
    "    while(d not in open):\n",
    "        layer = []\n",
    "        for i in open:\n",
    "            pos = []\n",
    "            if(i[0]==0):\n",
    "                pos.append([m, i[1]])\n",
    "            if(i[1]==0):\n",
    "                pos.append([i[0], n])\n",
    "            if(i[0]==m):\n",
    "                pos.append([0, i[1]])\n",
    "            if(i[1]==n):\n",
    "                pos.append([i[0], 0])\n",
    "            if(i[1]>0 and m-i[0]>0):\n",
    "                a=m-i[0]\n",
    "                if a>=i[1]:\n",
    "                    pos.append([i[0]+i[1], 0])\n",
    "                else:\n",
    "                    pos.append([m, i[1]-a])\n",
    "            if(i[0]>0 and n-i[1]>0):\n",
    "                a=n-i[1]\n",
    "                if a>=i[0]:\n",
    "                    pos.append([0, i[0]+i[1]])\n",
    "                else:\n",
    "                    pos.append([i[0]-a, n])\n",
    "\n",
    "            graph[tuple(i)]=pos\n",
    "            layer+=pos\n",
    "\n",
    "        #print(layer)\n",
    "        for j in layer:\n",
    "            if j in visited:\n",
    "                layer.remove(j)\n",
    "        print(layer)\n",
    "        visited+=open\n",
    "        open=layer\n",
    "    #print(visited)\n",
    "    return graph\n",
    "\n",
    "g = water_jug_bfs(root, dest, m, n)\n",
    "\n",
    "def path_taken(g, r, d):\n",
    "    x = d\n",
    "    ans = [tuple(d)]\n",
    "    while(x != r):\n",
    "        for i in g.keys():\n",
    "            if x in g[i]:\n",
    "                ans.insert(0, i)\n",
    "                break\n",
    "        x = list(ans[0])\n",
    "    return ans\n",
    "\n",
    "path = path_taken(g, root, dest)\n",
    "path\n",
    "     "
   ]
  },
  {
   "cell_type": "code",
   "execution_count": 2,
   "id": "5b6a04d7",
   "metadata": {
    "scrolled": true
   },
   "outputs": [
    {
     "name": "stdout",
     "output_type": "stream",
     "text": [
      "[[5, 0], [0, 3]]       [[0, 0]]\n",
      "[[5, 3], [2, 3], [0, 3]]       [[0, 0], [5, 0]]\n",
      "[[0, 3], [2, 3], [0, 3]]       [[0, 0], [5, 0], [5, 3]]\n",
      "[[3, 0], [2, 3]]       [[0, 0], [5, 0], [5, 3], [0, 3]]\n",
      "[[3, 3], [2, 3]]       [[0, 0], [5, 0], [5, 3], [0, 3], [3, 0]]\n",
      "[[5, 1], [2, 3]]       [[0, 0], [5, 0], [5, 3], [0, 3], [3, 0], [3, 3]]\n",
      "[[0, 1], [2, 3]]       [[0, 0], [5, 0], [5, 3], [0, 3], [3, 0], [3, 3], [5, 1]]\n",
      "[[1, 0], [2, 3]]       [[0, 0], [5, 0], [5, 3], [0, 3], [3, 0], [3, 3], [5, 1], [0, 1]]\n",
      "[[1, 3], [2, 3]]       [[0, 0], [5, 0], [5, 3], [0, 3], [3, 0], [3, 3], [5, 1], [0, 1], [1, 0]]\n",
      "[[4, 0], [2, 3]]       [[0, 0], [5, 0], [5, 3], [0, 3], [3, 0], [3, 3], [5, 1], [0, 1], [1, 0], [1, 3]]\n",
      "[[4, 0], [2, 3]]\n"
     ]
    }
   ],
   "source": [
    "root = [0, 0]\n",
    "dest = [res, 0]\n",
    "\n",
    "def water_jug_dfs(r, d, m, n): #5, 3\n",
    "    visited = []\n",
    "    open = [r]\n",
    "    while(d not in open):\n",
    "        i=open[0]\n",
    "        pos = []\n",
    "        if(i[0]==0):\n",
    "            pos.append([m, i[1]])\n",
    "        if(i[1]==0):\n",
    "            pos.append([i[0], n])\n",
    "        if(i[0]==m):\n",
    "            pos.append([0, i[1]])\n",
    "        if(i[1]==n):\n",
    "            pos.append([i[0], 0])\n",
    "        if(i[1]>0 and m-i[0]>0):\n",
    "            a=m-i[0]\n",
    "            if a>=i[1]:\n",
    "                pos.append([i[0]+i[1], 0])\n",
    "            else:\n",
    "                pos.append([m, i[1]-a])\n",
    "        if(i[0]>0 and n-i[1]>0):\n",
    "            a=n-i[1]\n",
    "            if a>=i[0]:\n",
    "                pos.append([0, i[0]+i[1]])\n",
    "            else:\n",
    "                pos.append([i[0]-a, n])\n",
    "\n",
    "        visited.append(i)\n",
    "        open.remove(i)\n",
    "        open = pos+open\n",
    "        for j in visited:\n",
    "            if j in open:\n",
    "               open.remove(j)\n",
    "        print(open, \"     \", visited)\n",
    "    print(open)\n",
    "\n",
    "water_jug_dfs(root, dest, m, n)"
   ]
  },
  {
   "cell_type": "code",
   "execution_count": 4,
   "id": "c223abfc",
   "metadata": {},
   "outputs": [
    {
     "name": "stdout",
     "output_type": "stream",
     "text": [
      "Enter capacity of jug1 : 5\n",
      "Enter capacity of jug2 : 3\n",
      "enter the goal node : 4 0\n",
      "Path:\n"
     ]
    },
    {
     "data": {
      "text/plain": [
       "[[0, 0], [0, 3], [3, 0], [3, 3], [5, 1], [0, 1], [1, 0], [1, 3], [4, 0]]"
      ]
     },
     "execution_count": 4,
     "metadata": {},
     "output_type": "execute_result"
    }
   ],
   "source": [
    "j1=int(input(\"Enter capacity of jug1 : \"))\n",
    "j2=int(input(\"Enter capacity of jug2 : \"))\n",
    "goal_node=list(map(int,input(\"enter the goal node : \").split()))\n",
    "initial_node=[0,0]\n",
    "def dfs(initial_node,goal_node,j1,j2):\n",
    "    path=[]\n",
    "    open_list=[]\n",
    "    closed_list=[]\n",
    "    open_list.append(initial_node)\n",
    "    while open_list:\n",
    "        s=open_list.pop()\n",
    "        path.append(s)\n",
    "        if s[0]==goal_node[0] and s[1]==goal_node[1]:\n",
    "            print(\"Path:\")\n",
    "            return path\n",
    "        closed_list.append([s[0],s[1]])\n",
    "        #Fill------------------------------------------------------\n",
    "        #rule1\n",
    "        if(s[0]<j1 and ([j1,s[1]] not in closed_list)):\n",
    "            open_list.append([j1,s[1]])\n",
    "            closed_list.append([j1,s[1]])\n",
    "        #rule2\n",
    "        if(s[1]<j2 and ([s[0],j2] not in closed_list)):\n",
    "            open_list.append([s[0],j2])\n",
    "            closed_list.append([s[0],j2])\n",
    "        #Empty----------------------------------------------------\n",
    "        #rule3\n",
    "        if(s[0]>0 and ([0,s[1]] not in closed_list)):\n",
    "            open_list.append([0,s[1]])\n",
    "            closed_list.append([0,s[1]])\n",
    "        #rule4\n",
    "        if(s[1]>0 and ([s[0],0] not in closed_list)):\n",
    "            open_list.append([s[0],0])\n",
    "            closed_list.append([s[0],0])\n",
    "        #Transfer-----------------------------------------\n",
    "        #rule5\n",
    "        if((s[0]+s[1])<=j1 and s[1]>=0 and ([(s[0]+s[1]),0] not in closed_list)):\n",
    "            open_list.append([(s[0]+s[1]),0])\n",
    "            closed_list.append([(s[0]+s[1]),0])\n",
    "        #rule6\n",
    "        if((s[0]+s[1])<=j2 and s[0]>0 and ([0,(s[0]+s[1])] not in closed_list)):\n",
    "            open_list.append([0,(s[0]+s[1])])\n",
    "            closed_list.append([0,(s[0]+s[1])])\n",
    "        #rule7\n",
    "        if((s[0]+s[1])>=j1 and s[1]>=0 and ([j1,(s[1]-(j1-s[0]))] not in closed_list)):\n",
    "            open_list.append([j1,(s[1]-(j1-s[0]))])\n",
    "            closed_list.append([j1,(s[1]-(j1-s[0]))])\n",
    "        #rule8\n",
    "        if((s[0]+s[1])>=j2 and s[0]>0 and ([(s[0]-(j2-s[1])),j2] not in closed_list)):\n",
    "            open_list.append([(s[0]-(j2-s[1])),j2])\n",
    "            closed_list.append([(s[0]-(j2-s[1])),j2])\n",
    "    return \"no path\"\n",
    "\n",
    "dfs(initial_node,goal_node,j1,j2)"
   ]
  },
  {
   "cell_type": "code",
   "execution_count": null,
   "id": "cd0a013b",
   "metadata": {},
   "outputs": [],
   "source": []
  }
 ],
 "metadata": {
  "kernelspec": {
   "display_name": "Python 3 (ipykernel)",
   "language": "python",
   "name": "python3"
  },
  "language_info": {
   "codemirror_mode": {
    "name": "ipython",
    "version": 3
   },
   "file_extension": ".py",
   "mimetype": "text/x-python",
   "name": "python",
   "nbconvert_exporter": "python",
   "pygments_lexer": "ipython3",
   "version": "3.9.13"
  }
 },
 "nbformat": 4,
 "nbformat_minor": 5
}
